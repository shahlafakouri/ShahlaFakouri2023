{
  "cells": [
    {
      "cell_type": "markdown",
      "metadata": {
        "id": "view-in-github",
        "colab_type": "text"
      },
      "source": [
        "<a href=\"https://colab.research.google.com/github/shahlafakouri/ShahlaFakouri2023/blob/main/CNNshahla.ipynb\" target=\"_parent\"><img src=\"https://colab.research.google.com/assets/colab-badge.svg\" alt=\"Open In Colab\"/></a>"
      ]
    },
    {
      "cell_type": "code",
      "execution_count": null,
      "metadata": {
        "colab": {
          "base_uri": "https://localhost:8080/"
        },
        "id": "ebWwXxHxR_Wx",
        "outputId": "e6ef6ec9-41f7-472a-c89f-7d9b256e87ff"
      },
      "outputs": [
        {
          "output_type": "stream",
          "name": "stdout",
          "text": [
            "Looking in indexes: https://pypi.org/simple, https://us-python.pkg.dev/colab-wheels/public/simple/\n",
            "Requirement already satisfied: keras in /usr/local/lib/python3.10/dist-packages (2.12.0)\n"
          ]
        }
      ],
      "source": [
        "!pip install keras"
      ]
    },
    {
      "cell_type": "code",
      "source": [
        "from google.colab import drive\n",
        "drive.mount('/content/drive')"
      ],
      "metadata": {
        "colab": {
          "base_uri": "https://localhost:8080/"
        },
        "id": "6cD22TmQe6qP",
        "outputId": "ba7004e8-f5a7-4a33-b7c8-9ceba21f403e"
      },
      "execution_count": null,
      "outputs": [
        {
          "output_type": "stream",
          "name": "stdout",
          "text": [
            "Drive already mounted at /content/drive; to attempt to forcibly remount, call drive.mount(\"/content/drive\", force_remount=True).\n"
          ]
        }
      ]
    },
    {
      "cell_type": "code",
      "execution_count": null,
      "metadata": {
        "id": "VjR-14TGMvJu"
      },
      "outputs": [],
      "source": [
        "# importing required libraries\n",
        "import numpy as np\n",
        "import pandas as pd\n",
        "import matplotlib.pyplot as plt"
      ]
    },
    {
      "cell_type": "code",
      "execution_count": null,
      "metadata": {
        "id": "q6NQ-JCVN35U"
      },
      "outputs": [],
      "source": [
        "# reading data file\n",
        "df = pd.read_csv('/content/drive/MyDrive/data/WELFake_Dataset.csv')\n"
      ]
    },
    {
      "cell_type": "code",
      "execution_count": null,
      "metadata": {
        "id": "206ZP8tA97cl",
        "colab": {
          "base_uri": "https://localhost:8080/",
          "height": 363
        },
        "outputId": "2aa085a8-7836-47ef-d58f-c95739ba85f0"
      },
      "outputs": [
        {
          "output_type": "execute_result",
          "data": {
            "text/plain": [
              "   Unnamed: 0                                              title  \\\n",
              "0           0  LAW ENFORCEMENT ON HIGH ALERT Following Threat...   \n",
              "1           1                                                NaN   \n",
              "2           2  UNBELIEVABLE! OBAMA’S ATTORNEY GENERAL SAYS MO...   \n",
              "3           3  Bobby Jindal, raised Hindu, uses story of Chri...   \n",
              "4           4  SATAN 2: Russia unvelis an image of its terrif...   \n",
              "5           5  About Time! Christian Group Sues Amazon and SP...   \n",
              "6           6  DR BEN CARSON TARGETED BY THE IRS: “I never ha...   \n",
              "7           7  HOUSE INTEL CHAIR On Trump-Russia Fake Story: ...   \n",
              "8           8  Sports Bar Owner Bans NFL Games…Will Show Only...   \n",
              "9           9  Latest Pipeline Leak Underscores Dangers Of Da...   \n",
              "\n",
              "                                                text  label  \n",
              "0  No comment is expected from Barack Obama Membe...      1  \n",
              "1     Did they post their votes for Hillary already?      1  \n",
              "2   Now, most of the demonstrators gathered last ...      1  \n",
              "3  A dozen politically active pastors came here f...      0  \n",
              "4  The RS-28 Sarmat missile, dubbed Satan 2, will...      1  \n",
              "5  All we can say on this one is it s about time ...      1  \n",
              "6  DR. BEN CARSON TELLS THE STORY OF WHAT HAPPENE...      1  \n",
              "7                                                         1  \n",
              "8  The owner of the Ringling Bar, located south o...      1  \n",
              "9  FILE – In this Sept. 15, 2005 file photo, the ...      1  "
            ],
            "text/html": [
              "\n",
              "  <div id=\"df-30db0f71-5b97-4834-bb16-f71ca655acf9\">\n",
              "    <div class=\"colab-df-container\">\n",
              "      <div>\n",
              "<style scoped>\n",
              "    .dataframe tbody tr th:only-of-type {\n",
              "        vertical-align: middle;\n",
              "    }\n",
              "\n",
              "    .dataframe tbody tr th {\n",
              "        vertical-align: top;\n",
              "    }\n",
              "\n",
              "    .dataframe thead th {\n",
              "        text-align: right;\n",
              "    }\n",
              "</style>\n",
              "<table border=\"1\" class=\"dataframe\">\n",
              "  <thead>\n",
              "    <tr style=\"text-align: right;\">\n",
              "      <th></th>\n",
              "      <th>Unnamed: 0</th>\n",
              "      <th>title</th>\n",
              "      <th>text</th>\n",
              "      <th>label</th>\n",
              "    </tr>\n",
              "  </thead>\n",
              "  <tbody>\n",
              "    <tr>\n",
              "      <th>0</th>\n",
              "      <td>0</td>\n",
              "      <td>LAW ENFORCEMENT ON HIGH ALERT Following Threat...</td>\n",
              "      <td>No comment is expected from Barack Obama Membe...</td>\n",
              "      <td>1</td>\n",
              "    </tr>\n",
              "    <tr>\n",
              "      <th>1</th>\n",
              "      <td>1</td>\n",
              "      <td>NaN</td>\n",
              "      <td>Did they post their votes for Hillary already?</td>\n",
              "      <td>1</td>\n",
              "    </tr>\n",
              "    <tr>\n",
              "      <th>2</th>\n",
              "      <td>2</td>\n",
              "      <td>UNBELIEVABLE! OBAMA’S ATTORNEY GENERAL SAYS MO...</td>\n",
              "      <td>Now, most of the demonstrators gathered last ...</td>\n",
              "      <td>1</td>\n",
              "    </tr>\n",
              "    <tr>\n",
              "      <th>3</th>\n",
              "      <td>3</td>\n",
              "      <td>Bobby Jindal, raised Hindu, uses story of Chri...</td>\n",
              "      <td>A dozen politically active pastors came here f...</td>\n",
              "      <td>0</td>\n",
              "    </tr>\n",
              "    <tr>\n",
              "      <th>4</th>\n",
              "      <td>4</td>\n",
              "      <td>SATAN 2: Russia unvelis an image of its terrif...</td>\n",
              "      <td>The RS-28 Sarmat missile, dubbed Satan 2, will...</td>\n",
              "      <td>1</td>\n",
              "    </tr>\n",
              "    <tr>\n",
              "      <th>5</th>\n",
              "      <td>5</td>\n",
              "      <td>About Time! Christian Group Sues Amazon and SP...</td>\n",
              "      <td>All we can say on this one is it s about time ...</td>\n",
              "      <td>1</td>\n",
              "    </tr>\n",
              "    <tr>\n",
              "      <th>6</th>\n",
              "      <td>6</td>\n",
              "      <td>DR BEN CARSON TARGETED BY THE IRS: “I never ha...</td>\n",
              "      <td>DR. BEN CARSON TELLS THE STORY OF WHAT HAPPENE...</td>\n",
              "      <td>1</td>\n",
              "    </tr>\n",
              "    <tr>\n",
              "      <th>7</th>\n",
              "      <td>7</td>\n",
              "      <td>HOUSE INTEL CHAIR On Trump-Russia Fake Story: ...</td>\n",
              "      <td></td>\n",
              "      <td>1</td>\n",
              "    </tr>\n",
              "    <tr>\n",
              "      <th>8</th>\n",
              "      <td>8</td>\n",
              "      <td>Sports Bar Owner Bans NFL Games…Will Show Only...</td>\n",
              "      <td>The owner of the Ringling Bar, located south o...</td>\n",
              "      <td>1</td>\n",
              "    </tr>\n",
              "    <tr>\n",
              "      <th>9</th>\n",
              "      <td>9</td>\n",
              "      <td>Latest Pipeline Leak Underscores Dangers Of Da...</td>\n",
              "      <td>FILE – In this Sept. 15, 2005 file photo, the ...</td>\n",
              "      <td>1</td>\n",
              "    </tr>\n",
              "  </tbody>\n",
              "</table>\n",
              "</div>\n",
              "      <button class=\"colab-df-convert\" onclick=\"convertToInteractive('df-30db0f71-5b97-4834-bb16-f71ca655acf9')\"\n",
              "              title=\"Convert this dataframe to an interactive table.\"\n",
              "              style=\"display:none;\">\n",
              "        \n",
              "  <svg xmlns=\"http://www.w3.org/2000/svg\" height=\"24px\"viewBox=\"0 0 24 24\"\n",
              "       width=\"24px\">\n",
              "    <path d=\"M0 0h24v24H0V0z\" fill=\"none\"/>\n",
              "    <path d=\"M18.56 5.44l.94 2.06.94-2.06 2.06-.94-2.06-.94-.94-2.06-.94 2.06-2.06.94zm-11 1L8.5 8.5l.94-2.06 2.06-.94-2.06-.94L8.5 2.5l-.94 2.06-2.06.94zm10 10l.94 2.06.94-2.06 2.06-.94-2.06-.94-.94-2.06-.94 2.06-2.06.94z\"/><path d=\"M17.41 7.96l-1.37-1.37c-.4-.4-.92-.59-1.43-.59-.52 0-1.04.2-1.43.59L10.3 9.45l-7.72 7.72c-.78.78-.78 2.05 0 2.83L4 21.41c.39.39.9.59 1.41.59.51 0 1.02-.2 1.41-.59l7.78-7.78 2.81-2.81c.8-.78.8-2.07 0-2.86zM5.41 20L4 18.59l7.72-7.72 1.47 1.35L5.41 20z\"/>\n",
              "  </svg>\n",
              "      </button>\n",
              "      \n",
              "  <style>\n",
              "    .colab-df-container {\n",
              "      display:flex;\n",
              "      flex-wrap:wrap;\n",
              "      gap: 12px;\n",
              "    }\n",
              "\n",
              "    .colab-df-convert {\n",
              "      background-color: #E8F0FE;\n",
              "      border: none;\n",
              "      border-radius: 50%;\n",
              "      cursor: pointer;\n",
              "      display: none;\n",
              "      fill: #1967D2;\n",
              "      height: 32px;\n",
              "      padding: 0 0 0 0;\n",
              "      width: 32px;\n",
              "    }\n",
              "\n",
              "    .colab-df-convert:hover {\n",
              "      background-color: #E2EBFA;\n",
              "      box-shadow: 0px 1px 2px rgba(60, 64, 67, 0.3), 0px 1px 3px 1px rgba(60, 64, 67, 0.15);\n",
              "      fill: #174EA6;\n",
              "    }\n",
              "\n",
              "    [theme=dark] .colab-df-convert {\n",
              "      background-color: #3B4455;\n",
              "      fill: #D2E3FC;\n",
              "    }\n",
              "\n",
              "    [theme=dark] .colab-df-convert:hover {\n",
              "      background-color: #434B5C;\n",
              "      box-shadow: 0px 1px 3px 1px rgba(0, 0, 0, 0.15);\n",
              "      filter: drop-shadow(0px 1px 2px rgba(0, 0, 0, 0.3));\n",
              "      fill: #FFFFFF;\n",
              "    }\n",
              "  </style>\n",
              "\n",
              "      <script>\n",
              "        const buttonEl =\n",
              "          document.querySelector('#df-30db0f71-5b97-4834-bb16-f71ca655acf9 button.colab-df-convert');\n",
              "        buttonEl.style.display =\n",
              "          google.colab.kernel.accessAllowed ? 'block' : 'none';\n",
              "\n",
              "        async function convertToInteractive(key) {\n",
              "          const element = document.querySelector('#df-30db0f71-5b97-4834-bb16-f71ca655acf9');\n",
              "          const dataTable =\n",
              "            await google.colab.kernel.invokeFunction('convertToInteractive',\n",
              "                                                     [key], {});\n",
              "          if (!dataTable) return;\n",
              "\n",
              "          const docLinkHtml = 'Like what you see? Visit the ' +\n",
              "            '<a target=\"_blank\" href=https://colab.research.google.com/notebooks/data_table.ipynb>data table notebook</a>'\n",
              "            + ' to learn more about interactive tables.';\n",
              "          element.innerHTML = '';\n",
              "          dataTable['output_type'] = 'display_data';\n",
              "          await google.colab.output.renderOutput(dataTable, element);\n",
              "          const docLink = document.createElement('div');\n",
              "          docLink.innerHTML = docLinkHtml;\n",
              "          element.appendChild(docLink);\n",
              "        }\n",
              "      </script>\n",
              "    </div>\n",
              "  </div>\n",
              "  "
            ]
          },
          "metadata": {},
          "execution_count": 5
        }
      ],
      "source": [
        "df.head(10)"
      ]
    },
    {
      "cell_type": "code",
      "execution_count": null,
      "metadata": {
        "colab": {
          "base_uri": "https://localhost:8080/"
        },
        "id": "8AVL2Fyk-Cb_",
        "outputId": "b22233b1-0a4c-43e8-9a35-bb1554dcd68e"
      },
      "outputs": [
        {
          "output_type": "stream",
          "name": "stdout",
          "text": [
            "<class 'pandas.core.frame.DataFrame'>\n",
            "RangeIndex: 72134 entries, 0 to 72133\n",
            "Data columns (total 4 columns):\n",
            " #   Column      Non-Null Count  Dtype \n",
            "---  ------      --------------  ----- \n",
            " 0   Unnamed: 0  72134 non-null  int64 \n",
            " 1   title       71576 non-null  object\n",
            " 2   text        72095 non-null  object\n",
            " 3   label       72134 non-null  int64 \n",
            "dtypes: int64(2), object(2)\n",
            "memory usage: 2.2+ MB\n"
          ]
        }
      ],
      "source": [
        "df.info()"
      ]
    },
    {
      "cell_type": "code",
      "execution_count": null,
      "metadata": {
        "id": "KHFT-7K2EoYR"
      },
      "outputs": [],
      "source": [
        "#Defining column titles\n",
        "\n",
        "df.columns = [\"id\",\"title\",\"text\",\"label\"]"
      ]
    },
    {
      "cell_type": "code",
      "execution_count": null,
      "metadata": {
        "colab": {
          "base_uri": "https://localhost:8080/",
          "height": 363
        },
        "id": "kQt42mmcOHNq",
        "outputId": "c4e469d9-e633-410c-d795-0ea8d21ca52f"
      },
      "outputs": [
        {
          "output_type": "execute_result",
          "data": {
            "text/plain": [
              "   id                                              title  \\\n",
              "0   0  LAW ENFORCEMENT ON HIGH ALERT Following Threat...   \n",
              "1   1                                                NaN   \n",
              "2   2  UNBELIEVABLE! OBAMA’S ATTORNEY GENERAL SAYS MO...   \n",
              "3   3  Bobby Jindal, raised Hindu, uses story of Chri...   \n",
              "4   4  SATAN 2: Russia unvelis an image of its terrif...   \n",
              "5   5  About Time! Christian Group Sues Amazon and SP...   \n",
              "6   6  DR BEN CARSON TARGETED BY THE IRS: “I never ha...   \n",
              "7   7  HOUSE INTEL CHAIR On Trump-Russia Fake Story: ...   \n",
              "8   8  Sports Bar Owner Bans NFL Games…Will Show Only...   \n",
              "9   9  Latest Pipeline Leak Underscores Dangers Of Da...   \n",
              "\n",
              "                                                text  label  \n",
              "0  No comment is expected from Barack Obama Membe...      1  \n",
              "1     Did they post their votes for Hillary already?      1  \n",
              "2   Now, most of the demonstrators gathered last ...      1  \n",
              "3  A dozen politically active pastors came here f...      0  \n",
              "4  The RS-28 Sarmat missile, dubbed Satan 2, will...      1  \n",
              "5  All we can say on this one is it s about time ...      1  \n",
              "6  DR. BEN CARSON TELLS THE STORY OF WHAT HAPPENE...      1  \n",
              "7                                                         1  \n",
              "8  The owner of the Ringling Bar, located south o...      1  \n",
              "9  FILE – In this Sept. 15, 2005 file photo, the ...      1  "
            ],
            "text/html": [
              "\n",
              "  <div id=\"df-f8f65cb6-3a0a-49d0-8b5c-fc213f6fc57d\">\n",
              "    <div class=\"colab-df-container\">\n",
              "      <div>\n",
              "<style scoped>\n",
              "    .dataframe tbody tr th:only-of-type {\n",
              "        vertical-align: middle;\n",
              "    }\n",
              "\n",
              "    .dataframe tbody tr th {\n",
              "        vertical-align: top;\n",
              "    }\n",
              "\n",
              "    .dataframe thead th {\n",
              "        text-align: right;\n",
              "    }\n",
              "</style>\n",
              "<table border=\"1\" class=\"dataframe\">\n",
              "  <thead>\n",
              "    <tr style=\"text-align: right;\">\n",
              "      <th></th>\n",
              "      <th>id</th>\n",
              "      <th>title</th>\n",
              "      <th>text</th>\n",
              "      <th>label</th>\n",
              "    </tr>\n",
              "  </thead>\n",
              "  <tbody>\n",
              "    <tr>\n",
              "      <th>0</th>\n",
              "      <td>0</td>\n",
              "      <td>LAW ENFORCEMENT ON HIGH ALERT Following Threat...</td>\n",
              "      <td>No comment is expected from Barack Obama Membe...</td>\n",
              "      <td>1</td>\n",
              "    </tr>\n",
              "    <tr>\n",
              "      <th>1</th>\n",
              "      <td>1</td>\n",
              "      <td>NaN</td>\n",
              "      <td>Did they post their votes for Hillary already?</td>\n",
              "      <td>1</td>\n",
              "    </tr>\n",
              "    <tr>\n",
              "      <th>2</th>\n",
              "      <td>2</td>\n",
              "      <td>UNBELIEVABLE! OBAMA’S ATTORNEY GENERAL SAYS MO...</td>\n",
              "      <td>Now, most of the demonstrators gathered last ...</td>\n",
              "      <td>1</td>\n",
              "    </tr>\n",
              "    <tr>\n",
              "      <th>3</th>\n",
              "      <td>3</td>\n",
              "      <td>Bobby Jindal, raised Hindu, uses story of Chri...</td>\n",
              "      <td>A dozen politically active pastors came here f...</td>\n",
              "      <td>0</td>\n",
              "    </tr>\n",
              "    <tr>\n",
              "      <th>4</th>\n",
              "      <td>4</td>\n",
              "      <td>SATAN 2: Russia unvelis an image of its terrif...</td>\n",
              "      <td>The RS-28 Sarmat missile, dubbed Satan 2, will...</td>\n",
              "      <td>1</td>\n",
              "    </tr>\n",
              "    <tr>\n",
              "      <th>5</th>\n",
              "      <td>5</td>\n",
              "      <td>About Time! Christian Group Sues Amazon and SP...</td>\n",
              "      <td>All we can say on this one is it s about time ...</td>\n",
              "      <td>1</td>\n",
              "    </tr>\n",
              "    <tr>\n",
              "      <th>6</th>\n",
              "      <td>6</td>\n",
              "      <td>DR BEN CARSON TARGETED BY THE IRS: “I never ha...</td>\n",
              "      <td>DR. BEN CARSON TELLS THE STORY OF WHAT HAPPENE...</td>\n",
              "      <td>1</td>\n",
              "    </tr>\n",
              "    <tr>\n",
              "      <th>7</th>\n",
              "      <td>7</td>\n",
              "      <td>HOUSE INTEL CHAIR On Trump-Russia Fake Story: ...</td>\n",
              "      <td></td>\n",
              "      <td>1</td>\n",
              "    </tr>\n",
              "    <tr>\n",
              "      <th>8</th>\n",
              "      <td>8</td>\n",
              "      <td>Sports Bar Owner Bans NFL Games…Will Show Only...</td>\n",
              "      <td>The owner of the Ringling Bar, located south o...</td>\n",
              "      <td>1</td>\n",
              "    </tr>\n",
              "    <tr>\n",
              "      <th>9</th>\n",
              "      <td>9</td>\n",
              "      <td>Latest Pipeline Leak Underscores Dangers Of Da...</td>\n",
              "      <td>FILE – In this Sept. 15, 2005 file photo, the ...</td>\n",
              "      <td>1</td>\n",
              "    </tr>\n",
              "  </tbody>\n",
              "</table>\n",
              "</div>\n",
              "      <button class=\"colab-df-convert\" onclick=\"convertToInteractive('df-f8f65cb6-3a0a-49d0-8b5c-fc213f6fc57d')\"\n",
              "              title=\"Convert this dataframe to an interactive table.\"\n",
              "              style=\"display:none;\">\n",
              "        \n",
              "  <svg xmlns=\"http://www.w3.org/2000/svg\" height=\"24px\"viewBox=\"0 0 24 24\"\n",
              "       width=\"24px\">\n",
              "    <path d=\"M0 0h24v24H0V0z\" fill=\"none\"/>\n",
              "    <path d=\"M18.56 5.44l.94 2.06.94-2.06 2.06-.94-2.06-.94-.94-2.06-.94 2.06-2.06.94zm-11 1L8.5 8.5l.94-2.06 2.06-.94-2.06-.94L8.5 2.5l-.94 2.06-2.06.94zm10 10l.94 2.06.94-2.06 2.06-.94-2.06-.94-.94-2.06-.94 2.06-2.06.94z\"/><path d=\"M17.41 7.96l-1.37-1.37c-.4-.4-.92-.59-1.43-.59-.52 0-1.04.2-1.43.59L10.3 9.45l-7.72 7.72c-.78.78-.78 2.05 0 2.83L4 21.41c.39.39.9.59 1.41.59.51 0 1.02-.2 1.41-.59l7.78-7.78 2.81-2.81c.8-.78.8-2.07 0-2.86zM5.41 20L4 18.59l7.72-7.72 1.47 1.35L5.41 20z\"/>\n",
              "  </svg>\n",
              "      </button>\n",
              "      \n",
              "  <style>\n",
              "    .colab-df-container {\n",
              "      display:flex;\n",
              "      flex-wrap:wrap;\n",
              "      gap: 12px;\n",
              "    }\n",
              "\n",
              "    .colab-df-convert {\n",
              "      background-color: #E8F0FE;\n",
              "      border: none;\n",
              "      border-radius: 50%;\n",
              "      cursor: pointer;\n",
              "      display: none;\n",
              "      fill: #1967D2;\n",
              "      height: 32px;\n",
              "      padding: 0 0 0 0;\n",
              "      width: 32px;\n",
              "    }\n",
              "\n",
              "    .colab-df-convert:hover {\n",
              "      background-color: #E2EBFA;\n",
              "      box-shadow: 0px 1px 2px rgba(60, 64, 67, 0.3), 0px 1px 3px 1px rgba(60, 64, 67, 0.15);\n",
              "      fill: #174EA6;\n",
              "    }\n",
              "\n",
              "    [theme=dark] .colab-df-convert {\n",
              "      background-color: #3B4455;\n",
              "      fill: #D2E3FC;\n",
              "    }\n",
              "\n",
              "    [theme=dark] .colab-df-convert:hover {\n",
              "      background-color: #434B5C;\n",
              "      box-shadow: 0px 1px 3px 1px rgba(0, 0, 0, 0.15);\n",
              "      filter: drop-shadow(0px 1px 2px rgba(0, 0, 0, 0.3));\n",
              "      fill: #FFFFFF;\n",
              "    }\n",
              "  </style>\n",
              "\n",
              "      <script>\n",
              "        const buttonEl =\n",
              "          document.querySelector('#df-f8f65cb6-3a0a-49d0-8b5c-fc213f6fc57d button.colab-df-convert');\n",
              "        buttonEl.style.display =\n",
              "          google.colab.kernel.accessAllowed ? 'block' : 'none';\n",
              "\n",
              "        async function convertToInteractive(key) {\n",
              "          const element = document.querySelector('#df-f8f65cb6-3a0a-49d0-8b5c-fc213f6fc57d');\n",
              "          const dataTable =\n",
              "            await google.colab.kernel.invokeFunction('convertToInteractive',\n",
              "                                                     [key], {});\n",
              "          if (!dataTable) return;\n",
              "\n",
              "          const docLinkHtml = 'Like what you see? Visit the ' +\n",
              "            '<a target=\"_blank\" href=https://colab.research.google.com/notebooks/data_table.ipynb>data table notebook</a>'\n",
              "            + ' to learn more about interactive tables.';\n",
              "          element.innerHTML = '';\n",
              "          dataTable['output_type'] = 'display_data';\n",
              "          await google.colab.output.renderOutput(dataTable, element);\n",
              "          const docLink = document.createElement('div');\n",
              "          docLink.innerHTML = docLinkHtml;\n",
              "          element.appendChild(docLink);\n",
              "        }\n",
              "      </script>\n",
              "    </div>\n",
              "  </div>\n",
              "  "
            ]
          },
          "metadata": {},
          "execution_count": 8
        }
      ],
      "source": [
        "df.head(10)"
      ]
    },
    {
      "cell_type": "code",
      "execution_count": null,
      "metadata": {
        "colab": {
          "base_uri": "https://localhost:8080/"
        },
        "id": "hLCYA12N-iaD",
        "outputId": "756c2c79-52a1-4a54-9dff-06a55caf5ff5"
      },
      "outputs": [
        {
          "output_type": "stream",
          "name": "stdout",
          "text": [
            "<class 'pandas.core.frame.DataFrame'>\n",
            "RangeIndex: 72134 entries, 0 to 72133\n",
            "Data columns (total 4 columns):\n",
            " #   Column  Non-Null Count  Dtype \n",
            "---  ------  --------------  ----- \n",
            " 0   id      72134 non-null  int64 \n",
            " 1   title   71576 non-null  object\n",
            " 2   text    72095 non-null  object\n",
            " 3   label   72134 non-null  int64 \n",
            "dtypes: int64(2), object(2)\n",
            "memory usage: 2.2+ MB\n"
          ]
        }
      ],
      "source": [
        "df.info()"
      ]
    },
    {
      "cell_type": "markdown",
      "metadata": {
        "id": "qdovrbCOV6W6"
      },
      "source": [
        "# Preprocessing and Feature Extraction Phase"
      ]
    },
    {
      "cell_type": "code",
      "execution_count": null,
      "metadata": {
        "id": "Pp26seLgOoLZ"
      },
      "outputs": [],
      "source": [
        "# remove unwanted column entries (id and title)\n",
        "\n",
        "df.drop(labels=['id','title'], axis='columns', inplace=True)\n"
      ]
    },
    {
      "cell_type": "code",
      "execution_count": null,
      "metadata": {
        "colab": {
          "base_uri": "https://localhost:8080/"
        },
        "id": "VGpukD1fxAyW",
        "outputId": "d76b545f-3fd0-4de8-902c-920f07a95426"
      },
      "outputs": [
        {
          "output_type": "execute_result",
          "data": {
            "text/plain": [
              "0        No comment is expected from Barack Obama Membe...\n",
              "1           Did they post their votes for Hillary already?\n",
              "2         Now, most of the demonstrators gathered last ...\n",
              "3        A dozen politically active pastors came here f...\n",
              "4        The RS-28 Sarmat missile, dubbed Satan 2, will...\n",
              "                               ...                        \n",
              "72129    WASHINGTON (Reuters) - Hackers believed to be ...\n",
              "72130    You know, because in fantasyland Republicans n...\n",
              "72131    Migrants Refuse To Leave Train At Refugee Camp...\n",
              "72132    MEXICO CITY (Reuters) - Donald Trump’s combati...\n",
              "72133    Goldman Sachs Endorses Hillary Clinton For Pre...\n",
              "Name: text, Length: 72134, dtype: object"
            ]
          },
          "metadata": {},
          "execution_count": 11
        }
      ],
      "source": [
        "df['text']"
      ]
    },
    {
      "cell_type": "code",
      "execution_count": null,
      "metadata": {
        "id": "V6nXno8jxYYp"
      },
      "outputs": [],
      "source": [
        "#Removing null values from text\n",
        "\n",
        "df.dropna(subset = [\"text\"], inplace=True)\n"
      ]
    },
    {
      "cell_type": "code",
      "source": [
        "import torch\n",
        "from torchtext.data.utils import get_tokenizer\n",
        "\n",
        "# Load the stopword list\n",
        "stopwords = set(['list', 'of', 'stop', 'words'])\n",
        "\n",
        "# Create a tokenizer\n",
        "tokenizer = get_tokenizer('basic_english')\n",
        "\n",
        "# Define a function to remove stopwords from a list of tokens\n",
        "def remove_stopwords(tokens):\n",
        "    return [token for token in tokens if token not in stopwords]\n",
        "\n",
        "# Tokenize the text using the tokenizer function\n",
        "df['text'] = df['text'].apply(lambda x: tokenizer(x))\n",
        "\n",
        "# Remove stopwords from the tokenized text\n",
        "df['text'] = df['text'].apply(lambda x: remove_stopwords(x))\n",
        "\n",
        "# Convert the tokenized text to tensors\n",
        "df['text'] = df['text'].apply(lambda x: torch.tensor(x))\n",
        "\n",
        "# Split the data into train, validation, and test sets\n",
        "# ...\n"
      ],
      "metadata": {
        "id": "jNjwL8gBBAYU"
      },
      "execution_count": null,
      "outputs": []
    },
    {
      "cell_type": "code",
      "source": [
        "# Removing stopwords\n",
        "\n",
        "from gensim.parsing.preprocessing import remove_stopwords\n",
        "def stopword_removal(row):\n",
        "    text = row['text']\n",
        "    text = remove_stopwords(text)\n",
        "    return text"
      ],
      "metadata": {
        "id": "DLFeW_3r46dg"
      },
      "execution_count": null,
      "outputs": []
    },
    {
      "cell_type": "code",
      "execution_count": null,
      "metadata": {
        "colab": {
          "base_uri": "https://localhost:8080/"
        },
        "id": "IvLce5s8x-es",
        "outputId": "bcf97491-d27c-44c0-fb4a-847306b0853b"
      },
      "outputs": [
        {
          "output_type": "stream",
          "name": "stderr",
          "text": [
            "<ipython-input-14-196c781e8b9f>:3: FutureWarning: The default value of regex will change from True to False in a future version.\n",
            "  df['text'] = df['text'].str.lower().str.replace('[^\\w\\s]',' ').str.replace('\\s\\s+', ' ').str.replace('\\d', ' ')\n"
          ]
        }
      ],
      "source": [
        "# Case folding.\n",
        "\n",
        "df['text'] = df['text'].str.lower().str.replace('[^\\w\\s]',' ').str.replace('\\s\\s+', ' ').str.replace('\\d', ' ')"
      ]
    },
    {
      "cell_type": "code",
      "execution_count": null,
      "metadata": {
        "colab": {
          "base_uri": "https://localhost:8080/"
        },
        "id": "Y-9VT6WTO2ug",
        "outputId": "0e27bb86-d6f0-4275-9a0c-8c8fad87eb63"
      },
      "outputs": [
        {
          "output_type": "stream",
          "name": "stdout",
          "text": [
            "Found 72095 texts.\n"
          ]
        }
      ],
      "source": [
        "# assign text samples and their labels and print no of rows in 'texts'\n",
        "\n",
        "texts = df['text']\n",
        "labels = df['label']\n",
        "\n",
        "print('Found %s texts.' %texts.shape[0])"
      ]
    },
    {
      "cell_type": "code",
      "execution_count": null,
      "metadata": {
        "id": "f5JhEyBCJO0a"
      },
      "outputs": [],
      "source": [
        "# Fill NaN values with \"\" in the texts column\n",
        "\n",
        "texts = texts.fillna(\"\")"
      ]
    },
    {
      "cell_type": "code",
      "execution_count": null,
      "metadata": {
        "colab": {
          "base_uri": "https://localhost:8080/",
          "height": 430
        },
        "id": "sob5Y9GoO4e0",
        "outputId": "63e22b44-adec-40e5-c32c-d8609a6c926e"
      },
      "outputs": [
        {
          "output_type": "display_data",
          "data": {
            "text/plain": [
              "<Figure size 640x480 with 1 Axes>"
            ],
            "image/png": "[encoded data removed]"
          },
          "metadata": {}
        }
      ],
      "source": [
        "# plot the distribution of article lengths in terms of word counts\n",
        "\n",
        "text_lengths = texts.apply(lambda x: len(x.split(\" \")))\n",
        "plt.hist(text_lengths)\n",
        "plt.show()"
      ]
    },
    {
      "cell_type": "code",
      "execution_count": null,
      "metadata": {
        "colab": {
          "base_uri": "https://localhost:8080/",
          "height": 586
        },
        "id": "8dkK5Uk85PSe",
        "outputId": "9e4a29d4-5d5b-4692-849f-c612eec95ed3"
      },
      "outputs": [
        {
          "output_type": "execute_result",
          "data": {
            "text/plain": [
              "count    72095.000000\n",
              "mean       573.123587\n",
              "std        658.428156\n",
              "min          1.000000\n",
              "25%        243.000000\n",
              "50%        424.000000\n",
              "75%        710.000000\n",
              "max      25708.000000\n",
              "Name: text, dtype: float64"
            ]
          },
          "metadata": {},
          "execution_count": 18
        },
        {
          "output_type": "display_data",
          "data": {
            "text/plain": [
              "<Figure size 640x480 with 1 Axes>"
            ],
            "image/png": "[encoded data removed]"
          },
          "metadata": {}
        }
      ],
      "source": [
        "pd.Series(text_lengths).hist()\n",
        "pd.Series(text_lengths).describe()"
      ]
    },
    {
      "cell_type": "code",
      "execution_count": null,
      "metadata": {
        "id": "tewE4ULYNlOA"
      },
      "outputs": [],
      "source": [
        "MAX_SEQUENCE_LENGTH = 700 # shahla: default 700\n",
        "MAX_NUM_WORDS = 1000 # shahla: default 1000\n",
        "EMBEDDING_DIM = 512 # shahla\n",
        "TEST_SPLIT = 0.2"
      ]
    },
    {
      "cell_type": "code",
      "execution_count": null,
      "metadata": {
        "colab": {
          "base_uri": "https://localhost:8080/"
        },
        "id": "puN9qYQ6J3RU",
        "outputId": "73120d23-6f55-4e81-b909-9e3e3f56910a"
      },
      "outputs": [
        {
          "output_type": "stream",
          "name": "stdout",
          "text": [
            "Looking in indexes: https://pypi.org/simple, https://us-python.pkg.dev/colab-wheels/public/simple/\n",
            "Requirement already satisfied: keras_preprocessing in /usr/local/lib/python3.10/dist-packages (1.1.2)\n",
            "Requirement already satisfied: numpy>=1.9.1 in /usr/local/lib/python3.10/dist-packages (from keras_preprocessing) (1.22.4)\n",
            "Requirement already satisfied: six>=1.9.0 in /usr/local/lib/python3.10/dist-packages (from keras_preprocessing) (1.16.0)\n"
          ]
        }
      ],
      "source": [
        "!pip install keras_preprocessing"
      ]
    },
    {
      "cell_type": "code",
      "source": [
        "from nltk.tokenize import WordPunctTokenizer\n",
        "\n",
        "# Tokenizing sentences into words\n",
        "tokenizer = WordPunctTokenizer()\n",
        "# Splitting each text into tokens\n",
        "tokens = texts.apply(tokenizer.tokenize)\n",
        "# Converting tokens back to text\n",
        "texts = tokens.apply(' '.join)\n"
      ],
      "metadata": {
        "id": "aV6s2FvHy0zs"
      },
      "execution_count": null,
      "outputs": []
    },
    {
      "cell_type": "code",
      "source": [
        "# shahla add this code as new biagram tokenizer\n",
        "# Install and import the required libraries\n",
        "!pip install torch torchvision\n",
        "import pandas as pd\n",
        "import torch\n",
        "import torch.nn as nn\n",
        "from torch.utils.data import DataLoader\n",
        "from sklearn.model_selection import train_test_split\n",
        "\n",
        "# Define the tokenizer function for trigram tokenization\n",
        "def tokenize_text(text):\n",
        "    if isinstance(text, list):\n",
        "        text = ' '.join(text)\n",
        "    tokens = text.split()\n",
        "    ngrams = zip(tokens, tokens[1:], tokens[2:])\n",
        "    return [\" \".join(ngram) for ngram in ngrams]\n",
        "\n",
        "# Tokenize the text using the tokenizer function\n",
        "df['text'] = df['text'].apply(lambda x: tokenize_text(x))\n",
        "\n",
        "# Split the data into train, validation, and test sets\n",
        "train_texts, test_texts, train_labels, test_labels = train_test_split(df['text'], labels, test_size=0.2)\n",
        "train_texts, val_texts, train_labels, val_labels = train_test_split(train_texts, train_labels, test_size=0.1)\n",
        "\n",
        "# Convert the texts and labels into tensors\n",
        "train_data = list(zip(train_texts, train_labels))\n",
        "val_data = list(zip(val_texts, val_labels))\n",
        "test_data = list(zip(test_texts, test_labels))\n",
        "\n",
        "# Define a custom dataset\n",
        "class TextDataset(torch.utils.data.Dataset):\n",
        "    def __init__(self, data, tokenizer, word_index):\n",
        "        self.data = data\n",
        "        self.tokenizer = tokenizer\n",
        "        self.word_index = word_index\n",
        "    \n",
        "    def __len__(self):\n",
        "        return len(self.data)\n",
        "    \n",
        "    def __getitem__(self, idx):\n",
        "        text, label = self.data[idx]\n",
        "        tokens = self.tokenizer(text)\n",
        "        sequence = [self.word_index.get(token, 0) for token in tokens]\n",
        "        return torch.LongTensor(sequence), torch.Tensor([label])\n",
        "        \n",
        "# Define the tokenizer function for converting texts to sequences of integers\n",
        "def tokenizer(text):\n",
        "    # Implement your trigram tokenizer logic here\n",
        "    tokens = text.split()\n",
        "    ngrams = zip(tokens, tokens[1:], tokens[2:])\n",
        "    return [\" \".join(ngram) for ngram in ngrams]\n",
        "\n",
        "# Rest of your code (model definition, training loop, etc.) goes here\n",
        "# ...\n"
      ],
      "metadata": {
        "colab": {
          "base_uri": "https://localhost:8080/"
        },
        "id": "WhxD7YWO6aEx",
        "outputId": "f09b7934-428b-401a-9499-3ec9aa537054"
      },
      "execution_count": null,
      "outputs": [
        {
          "output_type": "stream",
          "name": "stdout",
          "text": [
            "Looking in indexes: https://pypi.org/simple, https://us-python.pkg.dev/colab-wheels/public/simple/\n",
            "Requirement already satisfied: torch in /usr/local/lib/python3.10/dist-packages (2.0.1+cu118)\n",
            "Requirement already satisfied: torchvision in /usr/local/lib/python3.10/dist-packages (0.15.2+cu118)\n",
            "Requirement already satisfied: filelock in /usr/local/lib/python3.10/dist-packages (from torch) (3.12.0)\n",
            "Requirement already satisfied: typing-extensions in /usr/local/lib/python3.10/dist-packages (from torch) (4.5.0)\n",
            "Requirement already satisfied: sympy in /usr/local/lib/python3.10/dist-packages (from torch) (1.11.1)\n",
            "Requirement already satisfied: networkx in /usr/local/lib/python3.10/dist-packages (from torch) (3.1)\n",
            "Requirement already satisfied: jinja2 in /usr/local/lib/python3.10/dist-packages (from torch) (3.1.2)\n",
            "Requirement already satisfied: triton==2.0.0 in /usr/local/lib/python3.10/dist-packages (from torch) (2.0.0)\n",
            "Requirement already satisfied: cmake in /usr/local/lib/python3.10/dist-packages (from triton==2.0.0->torch) (3.25.2)\n",
            "Requirement already satisfied: lit in /usr/local/lib/python3.10/dist-packages (from triton==2.0.0->torch) (16.0.5)\n",
            "Requirement already satisfied: numpy in /usr/local/lib/python3.10/dist-packages (from torchvision) (1.22.4)\n",
            "Requirement already satisfied: requests in /usr/local/lib/python3.10/dist-packages (from torchvision) (2.27.1)\n",
            "Requirement already satisfied: pillow!=8.3.*,>=5.3.0 in /usr/local/lib/python3.10/dist-packages (from torchvision) (8.4.0)\n",
            "Requirement already satisfied: MarkupSafe>=2.0 in /usr/local/lib/python3.10/dist-packages (from jinja2->torch) (2.1.2)\n",
            "Requirement already satisfied: urllib3<1.27,>=1.21.1 in /usr/local/lib/python3.10/dist-packages (from requests->torchvision) (1.26.15)\n",
            "Requirement already satisfied: certifi>=2017.4.17 in /usr/local/lib/python3.10/dist-packages (from requests->torchvision) (2022.12.7)\n",
            "Requirement already satisfied: charset-normalizer~=2.0.0 in /usr/local/lib/python3.10/dist-packages (from requests->torchvision) (2.0.12)\n",
            "Requirement already satisfied: idna<4,>=2.5 in /usr/local/lib/python3.10/dist-packages (from requests->torchvision) (3.4)\n",
            "Requirement already satisfied: mpmath>=0.19 in /usr/local/lib/python3.10/dist-packages (from sympy->torch) (1.3.0)\n"
          ]
        }
      ]
    },
    {
      "cell_type": "code",
      "execution_count": null,
      "metadata": {
        "colab": {
          "base_uri": "https://localhost:8080/"
        },
        "id": "NqI90LHHOfb6",
        "outputId": "840c6c9d-c9e2-4b4c-aff2-8e1259a5d908"
      },
      "outputs": [
        {
          "output_type": "stream",
          "name": "stdout",
          "text": [
            "Found 234143 unique tokens.\n",
            "Shape of data tensor: (72095, 700)\n",
            "Shape of label tensor: (72095,)\n"
          ]
        }
      ],
      "source": [
        "# vectorize the text samples into a 2D integer tensor \n",
        "\n",
        "from keras.preprocessing.text import Tokenizer\n",
        "from keras_preprocessing.sequence import pad_sequences\n",
        "\n",
        "\n",
        "# tokenizing sentences into words \n",
        "tokenizer = Tokenizer(num_words=MAX_NUM_WORDS)\n",
        "# using fit_on_texts method assigning values to particular words\n",
        "tokenizer.fit_on_texts(texts)\n",
        "# texts_to_sequences method is used to give particular integer values to word\n",
        "sequences = tokenizer.texts_to_sequences(texts)\n",
        "\n",
        "# calculating word_index\n",
        "word_index = tokenizer.word_index\n",
        "num_words = min(MAX_NUM_WORDS, len(word_index)) + 1\n",
        "# padding data to the same length for each samples\n",
        "data = pad_sequences(sequences, \n",
        "                     maxlen=MAX_SEQUENCE_LENGTH, \n",
        "                     padding='pre', \n",
        "                     truncating='pre')\n",
        "\n",
        "print('Found %s unique tokens.' % len(word_index))\n",
        "print('Shape of data tensor:', data.shape)\n",
        "print('Shape of label tensor:', labels.shape)"
      ]
    },
    {
      "cell_type": "markdown",
      "metadata": {
        "id": "gvsFsW1GWg4K"
      },
      "source": [
        "# Data Curation Phase"
      ]
    },
    {
      "cell_type": "code",
      "execution_count": null,
      "metadata": {
        "id": "4Eunxo-gPBzd"
      },
      "outputs": [],
      "source": [
        "# split the data into a training set and a validation set   \n",
        "\n",
        "from sklearn.model_selection import train_test_split\n",
        "\n",
        "\n",
        "\n",
        "x, x_test, y, y_test = train_test_split(data, labels, test_size=0.2)\n",
        "\n",
        "x_train, x_val, y_train, y_val = train_test_split(x, y, test_size=0.1)\n",
        "\n"
      ]
    },
    {
      "cell_type": "code",
      "execution_count": null,
      "metadata": {
        "colab": {
          "base_uri": "https://localhost:8080/"
        },
        "id": "FIVYE_yVF7Z_",
        "outputId": "ab69b9d9-46ff-4bcb-92c2-24dab8efa80c"
      },
      "outputs": [
        {
          "output_type": "execute_result",
          "data": {
            "text/plain": [
              "(72095, 700)"
            ]
          },
          "metadata": {},
          "execution_count": 25
        }
      ],
      "source": [
        "data.shape"
      ]
    },
    {
      "cell_type": "code",
      "execution_count": null,
      "metadata": {
        "colab": {
          "base_uri": "https://localhost:8080/"
        },
        "id": "CiTN3t-4JX_-",
        "outputId": "e19f5a43-7292-4053-dfb6-78213d744f39"
      },
      "outputs": [
        {
          "output_type": "execute_result",
          "data": {
            "text/plain": [
              "(51908, 700)"
            ]
          },
          "metadata": {},
          "execution_count": 26
        }
      ],
      "source": [
        "x_train.shape"
      ]
    },
    {
      "cell_type": "code",
      "execution_count": null,
      "metadata": {
        "colab": {
          "base_uri": "https://localhost:8080/"
        },
        "id": "c8O_xA_hJbDM",
        "outputId": "0ea37d76-0df9-4be2-fc1d-93222e9a848c"
      },
      "outputs": [
        {
          "output_type": "execute_result",
          "data": {
            "text/plain": [
              "(5768, 700)"
            ]
          },
          "metadata": {},
          "execution_count": 27
        }
      ],
      "source": [
        "x_val.shape"
      ]
    },
    {
      "cell_type": "code",
      "execution_count": null,
      "metadata": {
        "colab": {
          "base_uri": "https://localhost:8080/"
        },
        "id": "b2YMIkazJfSW",
        "outputId": "9000e876-0821-420d-efce-5974bc735459"
      },
      "outputs": [
        {
          "output_type": "execute_result",
          "data": {
            "text/plain": [
              "(14419, 700)"
            ]
          },
          "metadata": {},
          "execution_count": 28
        }
      ],
      "source": [
        "x_test.shape"
      ]
    },
    {
      "cell_type": "markdown",
      "metadata": {
        "id": "O4ViAlZbWsOV"
      },
      "source": [
        "# Model Building Phase"
      ]
    },
    {
      "cell_type": "code",
      "execution_count": null,
      "metadata": {
        "colab": {
          "base_uri": "https://localhost:8080/"
        },
        "id": "ZoVw-Po9_ZQh",
        "outputId": "2ee882f4-03ea-4d98-86b9-514c19fc0a42"
      },
      "outputs": [
        {
          "output_type": "stream",
          "name": "stdout",
          "text": [
            "Looking in indexes: https://pypi.org/simple, https://us-python.pkg.dev/colab-wheels/public/simple/\n",
            "Requirement already satisfied: scikeras in /usr/local/lib/python3.10/dist-packages (0.10.0)\n",
            "Requirement already satisfied: packaging>=0.21 in /usr/local/lib/python3.10/dist-packages (from scikeras) (23.1)\n",
            "Requirement already satisfied: scikit-learn>=1.0.0 in /usr/local/lib/python3.10/dist-packages (from scikeras) (1.2.2)\n",
            "Requirement already satisfied: numpy>=1.17.3 in /usr/local/lib/python3.10/dist-packages (from scikit-learn>=1.0.0->scikeras) (1.22.4)\n",
            "Requirement already satisfied: scipy>=1.3.2 in /usr/local/lib/python3.10/dist-packages (from scikit-learn>=1.0.0->scikeras) (1.10.1)\n",
            "Requirement already satisfied: joblib>=1.1.1 in /usr/local/lib/python3.10/dist-packages (from scikit-learn>=1.0.0->scikeras) (1.2.0)\n",
            "Requirement already satisfied: threadpoolctl>=2.0.0 in /usr/local/lib/python3.10/dist-packages (from scikit-learn>=1.0.0->scikeras) (3.1.0)\n"
          ]
        }
      ],
      "source": [
        "!pip install scikeras"
      ]
    },
    {
      "cell_type": "code",
      "execution_count": null,
      "metadata": {
        "colab": {
          "base_uri": "https://localhost:8080/"
        },
        "id": "e9oNl4_9gUqn",
        "outputId": "a1d95506-c0d1-4d93-cafc-8ca741db556a"
      },
      "outputs": [
        {
          "output_type": "stream",
          "name": "stderr",
          "text": [
            "<ipython-input-30-a9840efeba06>:62: DeprecationWarning: KerasClassifier is deprecated, use Sci-Keras (https://github.com/adriangb/scikeras) instead. See https://www.adriangb.com/scikeras/stable/migration.html for help migrating.\n",
            "  model = KerasClassifier(build_fn=my_model, verbose=0)\n"
          ]
        },
        {
          "output_type": "stream",
          "name": "stdout",
          "text": [
            "Fitting 3 folds for each of 15 candidates, totalling 45 fits\n",
            "541/541 [==============================] - 4s 6ms/step\n",
            "[CV] END EMBEDDING_DIM=512, activation=relu, dropout1=0.4, dropout2=0.2, filter1=128, filter2=32, filter3=32, filter4=32, kernel1=5, kernel2=5, kernel3=3, kernel4=5, optimizer=sgd, unit1=256, unit2=256; total time=  49.3s\n",
            "541/541 [==============================] - 3s 6ms/step\n",
            "[CV] END EMBEDDING_DIM=512, activation=relu, dropout1=0.4, dropout2=0.2, filter1=128, filter2=32, filter3=32, filter4=32, kernel1=5, kernel2=5, kernel3=3, kernel4=5, optimizer=sgd, unit1=256, unit2=256; total time=  24.0s\n",
            "541/541 [==============================] - 4s 6ms/step\n",
            "[CV] END EMBEDDING_DIM=512, activation=relu, dropout1=0.4, dropout2=0.2, filter1=128, filter2=32, filter3=32, filter4=32, kernel1=5, kernel2=5, kernel3=3, kernel4=5, optimizer=sgd, unit1=256, unit2=256; total time=  21.1s\n",
            "541/541 [==============================] - 2s 3ms/step\n",
            "[CV] END EMBEDDING_DIM=512, activation=sigmoid, dropout1=0.5, dropout2=0.2, filter1=32, filter2=32, filter3=8, filter4=8, kernel1=5, kernel2=3, kernel3=5, kernel4=5, optimizer=adam, unit1=128, unit2=128; total time=  15.2s\n",
            "541/541 [==============================] - 2s 4ms/step\n",
            "[CV] END EMBEDDING_DIM=512, activation=sigmoid, dropout1=0.5, dropout2=0.2, filter1=32, filter2=32, filter3=8, filter4=8, kernel1=5, kernel2=3, kernel3=5, kernel4=5, optimizer=adam, unit1=128, unit2=128; total time=  16.9s\n",
            "541/541 [==============================] - 2s 3ms/step\n",
            "[CV] END EMBEDDING_DIM=512, activation=sigmoid, dropout1=0.5, dropout2=0.2, filter1=32, filter2=32, filter3=8, filter4=8, kernel1=5, kernel2=3, kernel3=5, kernel4=5, optimizer=adam, unit1=128, unit2=128; total time=  13.9s\n",
            "541/541 [==============================] - 2s 3ms/step\n",
            "[CV] END EMBEDDING_DIM=256, activation=relu, dropout1=0.3, dropout2=0.2, filter1=32, filter2=64, filter3=8, filter4=32, kernel1=5, kernel2=3, kernel3=3, kernel4=5, optimizer=adam, unit1=512, unit2=128; total time=  12.6s\n",
            "541/541 [==============================] - 1s 2ms/step\n"
          ]
        }
      ],
      "source": [
        "# building convolutional neural network model                                                                      \n",
        "import keras\n",
        "from keras import layers\n",
        "from keras.models import Sequential\n",
        "from keras.layers import BatchNormalization, GlobalAveragePooling1D, LSTM, Dense, Input, Flatten, Activation, Multiply\n",
        "from sklearn.model_selection import RandomizedSearchCV # shahla: added\n",
        "from sklearn.metrics import make_scorer, mean_squared_error, accuracy_score # shahla: added\n",
        "from keras.wrappers.scikit_learn import KerasClassifier # shahla: added\n",
        "#from scikeras.wrappers import KerasClassifier, KerasRegressor # shahla: added\n",
        "from keras.models import Model\n",
        "\n",
        "def my_model(EMBEDDING_DIM, filter1, filter2, filter3, filter4, kernel1, kernel2, kernel3, kernel4, dropout1, dropout2, activation, unit1, unit2, optimizer):\n",
        "  #dropout1 = 0.4 # shahla: default is 0.4\n",
        "  #dropout2 = 0.5 # shahla: default is 0.5\n",
        "  num_classes = 1\n",
        "  model = Sequential(\n",
        "      [\n",
        "          # part 1: word and sequence processing\n",
        "     \n",
        "          # defining embedding layer where embedding dimension/ vector size is defined as 64 and input length is set as 600. Where num_words are unique words.\n",
        "          layers.Embedding(242766,\n",
        "                         EMBEDDING_DIM, \n",
        "                         input_length=MAX_SEQUENCE_LENGTH,\n",
        "                         trainable=False),\n",
        "     \n",
        "          # for defining convolutional layer, number of filters are set as 64 and kernal size is defined as 1 X 9.\n",
        "          layers.Conv1D(filters=filter1, kernel_size=kernel1, activation='ReLU'), # shahla: default is 64, 9\n",
        "          # maxpooling1d layer is used to take maximum values from representation.\n",
        "          layers.MaxPooling1D(2),\n",
        "          # adding dropout 0.2\n",
        "          layers.Dropout(dropout1),\n",
        "     \n",
        "          # creating second convolutional layer with kernal size 1 X 6, and number of filters will be 32. Where activation function will remain same as ReLU.\n",
        "          layers.Conv1D(filters=filter2, kernel_size=kernel2, activation='ReLU'),\n",
        "          # creating maxpooling layer with 2 neurons so that will compare with neighbour neuron and will take max value.\n",
        "          layers.MaxPooling1D(2, strides= 2),\n",
        "     \n",
        "          # adding one more convolutional layer with kernal size 1 X 6, and number of filters will be 16 and setting strides value as 2. Where activation function will be ReLU.\n",
        "          layers.Conv1D(filters=filter3, kernel_size=kernel3, activation='ReLU',strides= 2), # shahla: default is 64, 6\n",
        "        \n",
        "          layers.Conv1D(filters=filter4, kernel_size=kernel4, activation='ReLU',strides= 2), # shahla added this layer\n",
        "     \n",
        "          # adding flatten layer\n",
        "          layers.Flatten(),\n",
        "        \n",
        "          # part 2: classification\n",
        "          # dense layer with 512 neurons and  Relu activation function.\n",
        "          layers.Dense(units=unit1, activation=activation), # shahla: added this layer: default is 1024, activation='ReLU'\n",
        "          layers.Dense(units=unit2, activation=activation), # shahla: added this layer: default is 512, activation='ReLU'\n",
        "          # dropout value\n",
        "          layers.Dropout(dropout2),\n",
        "       \n",
        "          layers.Dense(num_classes, activation='sigmoid'),\n",
        "      ])\n",
        "  # compiling the model with loss as categorical_crossentropy because this is multiclass classfication problem.\n",
        "  model.compile(loss='binary_crossentropy',\n",
        "              optimizer=optimizer,\n",
        "              metrics=['accuracy'])\n",
        "\n",
        "  return model  \n",
        "\n",
        "model = KerasClassifier(build_fn=my_model, verbose=0)\n",
        "\n",
        "param_grid = {\n",
        "    'EMBEDDING_DIM': [64, 128, 256, 512, 1024],\n",
        "    'filter1':[32, 64, 128],\n",
        "    'filter2':[16, 32, 64],\n",
        "    'filter3':[8, 16, 32],\n",
        "    'filter4':[8, 16, 32],\n",
        "    'kernel1':[3,5,9],\n",
        "    'kernel2':[3,5],\n",
        "    'kernel3':[3,5],\n",
        "    'kernel4':[3,5],\n",
        "    'unit1': [128, 256, 512],\n",
        "    'unit2': [64, 128, 256],\n",
        "    'dropout1': [0.1, 0.2, 0.3, 0.4, 0.5],\n",
        "    'dropout2': [0.1, 0.2, 0.3, 0.4, 0.5],\n",
        "    'activation': ['relu', 'sigmoid'],\n",
        "    'optimizer': ['adam','sgd']\n",
        "    }\n",
        "\n",
        "scorer = make_scorer(accuracy_score)\n",
        "\n",
        "random_search = RandomizedSearchCV(\n",
        "    estimator=model,\n",
        "    param_distributions=param_grid,\n",
        "    scoring=scorer,\n",
        "    n_iter=15,\n",
        "    cv=3,\n",
        "    verbose=2\n",
        "    )\n",
        "\n",
        "random_search.fit(x_train, y_train)"
      ]
    },
    {
      "cell_type": "code",
      "execution_count": null,
      "metadata": {
        "id": "aNOupsH67OAM",
        "colab": {
          "base_uri": "https://localhost:8080/",
          "height": 236
        },
        "outputId": "5762af5d-c6a5-4423-b0e7-d71638500171"
      },
      "outputs": [
        {
          "output_type": "error",
          "ename": "NameError",
          "evalue": "ignored",
          "traceback": [
            "\u001b[0;31m---------------------------------------------------------------------------\u001b[0m",
            "\u001b[0;31mNameError\u001b[0m                                 Traceback (most recent call last)",
            "\u001b[0;32m<ipython-input-1-d6bcffc27e76>\u001b[0m in \u001b[0;36m<cell line: 1>\u001b[0;34m()\u001b[0m\n\u001b[0;32m----> 1\u001b[0;31m \u001b[0mbest_model\u001b[0m \u001b[0;34m=\u001b[0m \u001b[0mrandom_search\u001b[0m\u001b[0;34m.\u001b[0m\u001b[0mbest_estimator_\u001b[0m\u001b[0;34m\u001b[0m\u001b[0;34m\u001b[0m\u001b[0m\n\u001b[0m\u001b[1;32m      2\u001b[0m \u001b[0mprint\u001b[0m \u001b[0;34m(\u001b[0m\u001b[0mbest_model\u001b[0m\u001b[0;34m)\u001b[0m\u001b[0;34m\u001b[0m\u001b[0;34m\u001b[0m\u001b[0m\n\u001b[1;32m      3\u001b[0m \u001b[0mbest_params\u001b[0m \u001b[0;34m=\u001b[0m \u001b[0mrandom_search\u001b[0m\u001b[0;34m.\u001b[0m\u001b[0mbest_params_\u001b[0m\u001b[0;34m\u001b[0m\u001b[0;34m\u001b[0m\u001b[0m\n\u001b[1;32m      4\u001b[0m \u001b[0mbest_score\u001b[0m \u001b[0;34m=\u001b[0m \u001b[0mrandom_search\u001b[0m\u001b[0;34m.\u001b[0m\u001b[0mbest_score_\u001b[0m\u001b[0;34m\u001b[0m\u001b[0;34m\u001b[0m\u001b[0m\n\u001b[1;32m      5\u001b[0m \u001b[0mprint\u001b[0m\u001b[0;34m(\u001b[0m\u001b[0;34m\"Best Parameters: \"\u001b[0m\u001b[0;34m,\u001b[0m \u001b[0mbest_params\u001b[0m\u001b[0;34m)\u001b[0m\u001b[0;34m\u001b[0m\u001b[0;34m\u001b[0m\u001b[0m\n",
            "\u001b[0;31mNameError\u001b[0m: name 'random_search' is not defined"
          ]
        }
      ],
      "source": [
        "best_model = random_search.best_estimator_\n",
        "print (best_model)\n",
        "best_params = random_search.best_params_\n",
        "best_score = random_search.best_score_\n",
        "print(\"Best Parameters: \", best_params)\n",
        "print(\"Best Score: \", best_score)"
      ]
    },
    {
      "cell_type": "code",
      "source": [
        "best_embedding_dim = best_params['EMBEDDING_DIM']\n",
        "best_filter1       = best_params['filter1']\n",
        "best_filter2       = best_params['filter2']\n",
        "best_filter3       = best_params['filter3']\n",
        "best_filter4       = best_params['filter4']\n",
        "best_kernel1       = best_params['kernel1']\n",
        "best_kernel2       = best_params['kernel2']\n",
        "best_kernel3       = best_params['kernel3']\n",
        "best_kernel4       = best_params['kernel4']\n",
        "best_dropout1      = best_params['dropout1']\n",
        "best_dropout2      = best_params['dropout2']\n",
        "best_activation    = best_params['activation']\n",
        "best_unit1         = best_params['unit1']\n",
        "best_unit2         = best_params['unit2']\n",
        "best_optimizer     = best_params['optimizer']\n",
        "model = my_model(EMBEDDING_DIM=best_embedding_dim,\n",
        "                 filter1=best_filter1,\n",
        "                 filter2=best_filter2,\n",
        "                 filter3=best_filter3,\n",
        "                 filter4=best_filter4,\n",
        "                 kernel1=best_kernel1,\n",
        "                 kernel2=best_kernel2,\n",
        "                 kernel3=best_kernel3,\n",
        "                 kernel4=best_kernel4,\n",
        "                 dropout1=best_dropout1,\n",
        "                 dropout2=best_dropout2,\n",
        "                 activation=best_activation,\n",
        "                 unit1=best_unit1,\n",
        "                 unit2=best_unit2,\n",
        "                 optimizer=best_optimizer)\n",
        "\n",
        "model.summary()"
      ],
      "metadata": {
        "id": "Z80XTbQOsjD7"
      },
      "execution_count": null,
      "outputs": []
    },
    {
      "cell_type": "code",
      "execution_count": null,
      "metadata": {
        "id": "DRpQ6iKHJx8x"
      },
      "outputs": [],
      "source": [
        "# visalizing the layers of model.\n",
        "import tensorflow as tf\n",
        "\n",
        "tf.keras.utils.plot_model(\n",
        "model,\n",
        "to_file=\"model.png\",\n",
        "show_shapes=True,\n",
        "show_dtype=False,\n",
        "show_layer_names=True,\n",
        "rankdir=\"TB\",\n",
        "expand_nested=True,\n",
        "dpi=96,\n",
        "layer_range=None,\n",
        "show_layer_activations=True,\n",
        ")"
      ]
    },
    {
      "cell_type": "markdown",
      "metadata": {
        "id": "HcTYfHE5W0BD"
      },
      "source": [
        "# Model Training Phase"
      ]
    },
    {
      "cell_type": "code",
      "execution_count": null,
      "metadata": {
        "id": "bCpLD3YBPcTb"
      },
      "outputs": [],
      "source": [
        "# train the model with batch size of 16 and 45 epochs.\n",
        "import time as t\n",
        "start = t.time()\n",
        "history = model.fit(x_train, \n",
        "                    y_train,\n",
        "                    batch_size=128, # shahla: 16\n",
        "                    epochs=30, # shahla: 15\n",
        "                    validation_data=(x_val, y_val))\n",
        "\n",
        "print(\"total training time:\",t.time()-start)"
      ]
    },
    {
      "cell_type": "code",
      "execution_count": null,
      "metadata": {
        "id": "tftV97fZEAnI"
      },
      "outputs": [],
      "source": [
        "!pip install keras_flops"
      ]
    },
    {
      "cell_type": "code",
      "execution_count": null,
      "metadata": {
        "id": "MRA38OiOfoPR"
      },
      "outputs": [],
      "source": [
        "from tensorflow.python.framework.convert_to_constants import convert_variables_to_constants_v2_as_graph"
      ]
    },
    {
      "cell_type": "code",
      "execution_count": null,
      "metadata": {
        "id": "OSAdNVaMG4OG"
      },
      "outputs": [],
      "source": [
        "def get_flops(model, batch_size=None):\n",
        "    if batch_size is None:\n",
        "        batch_size = 1\n",
        "\n",
        "    real_model = tf.function(model).get_concrete_function(tf.TensorSpec([batch_size] + model.inputs[0].shape[1:], model.inputs[0].dtype))\n",
        "    frozen_func, graph_def = convert_variables_to_constants_v2_as_graph(real_model)\n",
        "\n",
        "    run_meta = tf.compat.v1.RunMetadata()\n",
        "    opts = tf.compat.v1.profiler.ProfileOptionBuilder.float_operation()\n",
        "    flops = tf.compat.v1.profiler.profile(graph=frozen_func.graph,\n",
        "                                            run_meta=run_meta, cmd='op', options=opts)\n",
        "    return flops.total_float_ops"
      ]
    },
    {
      "cell_type": "code",
      "execution_count": null,
      "metadata": {
        "id": "XPCN21wNG93B"
      },
      "outputs": [],
      "source": [
        "# calculating flops\n",
        "flops = get_flops(model, batch_size = 16)\n",
        "print(flops)\n",
        "print(f\"FLOPS: {flops / 10 ** 9:.03} G \")"
      ]
    },
    {
      "cell_type": "code",
      "execution_count": null,
      "metadata": {
        "id": "47tlZNv5J5dJ"
      },
      "outputs": [],
      "source": [
        "# Plot training & validation accuracy values\n",
        "\n",
        "plt.plot(history.history['val_loss'])\n",
        "plt.plot(history.history['loss'])\n",
        "plt.title('Model Loss ')\n",
        "plt.ylabel('Loss')\n",
        "plt.xlabel('Epochs')\n",
        "plt.legend(['Validation loss', 'Training loss'], loc='upper left')\n",
        "plt.show()"
      ]
    },
    {
      "cell_type": "code",
      "execution_count": null,
      "metadata": {
        "id": "kLm08pZRJ-Q2"
      },
      "outputs": [],
      "source": [
        "# Plot training & validation accuracy values\n",
        "\n",
        "plt.plot(history.history['accuracy'])\n",
        "plt.plot(history.history['val_accuracy'])\n",
        "plt.title('Model accuracy')\n",
        "plt.ylabel('Accuracy')\n",
        "plt.xlabel('Epoch')\n",
        "plt.legend(['Train', 'Validation'], loc='upper left')\n",
        "plt.show()"
      ]
    },
    {
      "cell_type": "markdown",
      "metadata": {
        "id": "fs8VY-yuXN_u"
      },
      "source": [
        "# Testing phase"
      ]
    },
    {
      "cell_type": "code",
      "execution_count": null,
      "metadata": {
        "id": "6ynGwS49KBDI"
      },
      "outputs": [],
      "source": [
        "print(\"Evaluate on test data\")\n",
        "results = model.evaluate(x_test, y_test)\n",
        "print(\"test loss, test acc:\", results)"
      ]
    },
    {
      "cell_type": "code",
      "execution_count": null,
      "metadata": {
        "id": "vVK9g1DvretX"
      },
      "outputs": [],
      "source": [
        "# Plot training & validation accuracy values\n",
        "\n",
        "plt.plot(history.history['loss'])\n",
        "plt.plot(history.history['val_loss'])\n",
        "plt.plot(history.history['accuracy'])\n",
        "plt.plot(history.history['val_accuracy'])\n",
        "\n",
        "plt.title('Model accuracy')\n",
        "plt.ylabel('Accuracy')\n",
        "plt.xlabel('Epoch')\n",
        "plt.legend(['Training loss', 'Validation loss','Training Accuracy','Validation Accuracy'], loc='upper left')\n",
        "plt.show()"
      ]
    },
    {
      "cell_type": "markdown",
      "metadata": {
        "id": "1eMnzDtLXehj"
      },
      "source": [
        "# Evaluation Phase"
      ]
    },
    {
      "cell_type": "code",
      "execution_count": null,
      "metadata": {
        "id": "seBd37xFP8Je"
      },
      "outputs": [],
      "source": [
        "# define a function that allows us to evaluate models\n",
        "\n",
        "from sklearn.metrics import accuracy_score,roc_auc_score,precision_score,recall_score,classification_report,roc_curve\n",
        "\n",
        "\n",
        "\n",
        "def evaluate_model(predict_fun, X_train, y_train, X_test, y_test):\n",
        "    '''\n",
        "    evaluate the model, both training and testing accuraries are reported\n",
        "    '''\n",
        "    # training acc\n",
        "    y_predict_train = predict_fun(X_train)\n",
        "    train_acc = accuracy_score(y_train,y_predict_train)\n",
        "    \n",
        "    # testing acc\n",
        "    y_predict_test = predict_fun(X_test)\n",
        "    test_acc = accuracy_score(y_test,y_predict_test)\n",
        "    \n",
        "\n",
        "    # accuracy = accuracy_score(y_test,y_pred_tex)\n",
        "    roc_auc =roc_auc_score(y_test, y_predict_test)\n",
        "    precision = precision_score(y_pred=y_predict_test, y_true=y_test,zero_division=1)\n",
        "    recall = recall_score(y_pred=y_predict_test, y_true=y_test,zero_division=1)\n",
        "    \n",
        "    cr = classification_report(y_test, y_predict_test,zero_division=1)\n",
        "\n",
        "\n",
        "    fpr, tpr, threshold = roc_curve(y_test, y_predict_test)\n",
        "    plt.plot([0,1], [0,1], 'k--')\n",
        "    plt.plot(fpr, tpr, label= 'CNN')\n",
        "    plt.xlabel('False Positive Rate',fontsize=12)\n",
        "    plt.ylabel('True Positive Rate',fontsize=12)\n",
        "    plt.title('%s ROC Curve'% 'CNN',fontsize=20)\n",
        "    plt.legend(fontsize=12)\n",
        "    plt.show()\n",
        "\n",
        "    roc_auc_sc = roc_auc_score(y_test,y_predict_test)\n",
        "\n",
        "    return train_acc, test_acc,cr,roc_auc_sc"
      ]
    },
    {
      "cell_type": "code",
      "execution_count": null,
      "metadata": {
        "id": "SMiwtOrmPiJs"
      },
      "outputs": [],
      "source": [
        "# Model evaluation\n",
        "import time as t\n",
        "start = t.time()\n",
        "train_acc, test_acc,cr,roc_auc_sc = evaluate_model(lambda x: np.rint(model.predict(x)),\n",
        "                                     x_train, \n",
        "                                     y_train, \n",
        "                                     x_test, \n",
        "                                     y_test)\n",
        "print(\"Training Accuracy: {:.2f}%\".format(train_acc*100))\n",
        "print(\"Testing Accuracy: {:.2f}%\".format(test_acc*100))\n",
        "print(\"Classification Report:\\n\",cr)\n",
        "print(\"AUC score\",roc_auc_sc)\n",
        "print(\"Total time required for testing\",t.time()-start)"
      ]
    },
    {
      "cell_type": "markdown",
      "metadata": {
        "id": "NjzNvzWbXmwD"
      },
      "source": [
        "# Extention with other datasets"
      ]
    },
    {
      "cell_type": "code",
      "execution_count": null,
      "metadata": {
        "id": "HlJsb7VQg6NN"
      },
      "outputs": [],
      "source": [
        "# loading weights of cyberbullying dataset to perform weights transferred on fake news detection for experimental study.\n",
        "from tensorflow import keras\n",
        "loaded_model = keras.models.load_model('/content/drive/MyDrive/data/WELFake_Dataset.csv')"
      ]
    },
    {
      "cell_type": "code",
      "execution_count": null,
      "metadata": {
        "id": "jzEH7AIRJ_d3"
      },
      "outputs": [],
      "source": [
        "loaded_model.summary()"
      ]
    },
    {
      "cell_type": "code",
      "execution_count": null,
      "metadata": {
        "id": "bpKho1WNhLdl"
      },
      "outputs": [],
      "source": [
        "from keras.layers import Activation, Dense\n",
        "model_new = Sequential()\n",
        "# going through until last layer (ommitting last layer as this problem belongs to binary classification)\n",
        "for layer in loaded_model.layers[:-1]: \n",
        "    model_new.add(layer)\n",
        "\n",
        "# adding final layer with 1 neuron as this is binary classification problem and sigmoid activation function\n",
        "model_new.add(Dense(1,activation = 'sigmoid'))\n",
        "\n",
        "\n",
        "# compiling model\n",
        "model_new.summary()\n",
        "model_new.compile(optimizer='adam', loss='binary_crossentropy',metrics= ['accuracy'])"
      ]
    },
    {
      "cell_type": "code",
      "execution_count": null,
      "metadata": {
        "id": "wM3iSHn1hPZf"
      },
      "outputs": [],
      "source": [
        "# train the model\n",
        "import time as t\n",
        "start = t.time()\n",
        "\n",
        "# fitting data to model where batch size is defined as 128 and epochs set as 15. Also validating model with 10% validation values of dataset.\n",
        "history = model_new.fit(x_train, \n",
        "                    y_train,\n",
        "                    batch_size=128,\n",
        "                    epochs=15,\n",
        "                    validation_data=(x_val, y_val))\n",
        "print(\"total time in training\",t.time()-start)"
      ]
    },
    {
      "cell_type": "code",
      "execution_count": null,
      "metadata": {
        "id": "NhdsxrGhhc2z"
      },
      "outputs": [],
      "source": [
        "# evaluate model\n",
        "import time as t\n",
        "start = t.time()\n",
        "train_acc, test_acc,cr,roc_auc_sc = evaluate_model(lambda x: np.rint(model_new.predict(x)),\n",
        "                                     x_train, \n",
        "                                     y_train, \n",
        "                                     x_test, \n",
        "                                     y_test)\n",
        "print(\"Training Accuracy: {:.2f}%\".format(train_acc*100))\n",
        "print(\"Testing Accuracy: {:.2f}%\".format(test_acc*100))\n",
        "print(\"Classification Report:\\n\",cr)\n",
        "print(\"AUC score\",roc_auc_sc)\n",
        "print(\"Total time required for testing\",t.time()-start)"
      ]
    },
    {
      "cell_type": "code",
      "execution_count": null,
      "metadata": {
        "id": "ZhU_q_DThfFL"
      },
      "outputs": [],
      "source": [
        "# evaluating model after swapping weights from cyberbullying to fake news.\n",
        "model_new.evaluate(x_test,y_test)"
      ]
    }
  ],
  "metadata": {
    "accelerator": "GPU",
    "colab": {
      "provenance": [],
      "gpuType": "T4",
      "include_colab_link": true
    },
    "kernelspec": {
      "display_name": "Python 3",
      "name": "python3"
    },
    "language_info": {
      "name": "python"
    }
  },
  "nbformat": 4,
  "nbformat_minor": 0
}